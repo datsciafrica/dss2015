{
 "cells": [
  {
   "cell_type": "markdown",
   "metadata": {},
   "source": [
    "# Data Science School, Nyeri, Kenya\n",
    "\n",
    "### 15th-17th June 2015\n",
    "\n",
    "### Neil D. Lawrence\n",
    "\n",
    "\n",
    "\n",
    "Welcome to the data science school in Nyeri, Kenya.\n",
    "\n",
    "This notebook provides you with the guide to your lab classes for the entire school. The lab classes are intended to help get you familiar with modeling as well as the principles of probabilistic inference.\n",
    "\n",
    "The lab classes make use of our `pods` software for ['open data science'](http://inverseprobability.com/2014/07/01/open-data-science/) for access to data sets and other resources.\n",
    "\n",
    "```sh\n",
    "pip install -pre pods\n",
    "```\n",
    "\n",
    "## Day 1: Introduction and Regression\n",
    "\n",
    "The first day will review probability and introduce regression models.\n",
    "\n",
    "* [Jupyter and Probability Review](./jupyter and probability intro.ipynb) Introduction to the Jupyter notebook and a review of probability.\n",
    "\n",
    "* [Introduction to Regression and Linear Algebra Review](./regression.ipynb) Regression is the mainstay of many approaches to machine learning, here we also motivate linear algebra through solving the regression problem.\n",
    "\n",
    "* [Introduction to Basis Functions](./basis functions.ipynb) Linear models can be limiting, basis functions allow us to go non linear in our predictions, but stay linear in our parameters.\n",
    "\n",
    "* [Model Validation](./model validation.ipynb) Validation of model predictions is one of the most general and important concepts in machine learning, statistics and data science. Here we teach the general concepts and apply them to polynomial regression.\n",
    "\n",
    "\n",
    "## Day 2: Classification \n",
    "\n",
    "* [Probabilistic classification and naive Bayes](./probabilistic classification.ipynb) Classification of data is a mainstay of machine learning and data science. Here we consider the naive Bayes approach from the perspective of probabilistic modeling. \n",
    "\n",
    "* [Logistic regression and Generalized Linear Models](./logistic regression.ipynb) Naive Bayes classifies the data by modeling the entire joint distribution of the the labels and inputs, this can be useful when there's missing data, but it requires a very rich class of models. Logistic regression models the conditional distribution of the label given the data. It also leads to a very general class of models know as 'generalized linear models'.\n",
    "\n",
    "## Day 3: Unsupervised Learning\n",
    "\n",
    "* [Dimensionality reduction](./dimensionality reduction.ipynb) Unsupervised learning is an exploratory approach to understanding a data set. Here we consider dimensionality reduction as an approach to unsupervised learning.\n",
    "\n",
    "* [Clustering](./clustering.ipynb)\n",
    "Clustering is a discrete exploratory approach to understanding a data set. In this lab we consider *clustering* as an approach to unsupervised learning\n",
    "\n",
    "## Other Material\n",
    "\n",
    "We don't have time to cover everything we'd like, but we've included a couple of other resources here in case you would like to learn more.\n",
    "\n",
    "* [Matrix Factorization for Collaborative Filtering](./matrix factorization.ipynb) An example of using `pandas` for data analysis and how to represent opinions on a computer: collaborative filtering and matrix factorization.\n",
    "\n",
    "* [Bayesian Regression](./Bayesian regression.ipynb) Bayesian averaging over models is one way of improving performance through reducing variance, but without increasing bias.\n",
    "\n",
    "* [Non linear Dimensionality Reduction](./non linear dimensionality reduction.ipynb) **TODO** Non linear dimensionality reduction seeks to find a low dimensional space that is non linearly related to our observed data.\n"
   ]
  },
  {
   "cell_type": "code",
   "execution_count": null,
   "metadata": {
    "collapsed": false
   },
   "outputs": [],
   "source": []
  }
 ],
 "metadata": {
  "kernelspec": {
   "display_name": "Python 2",
   "language": "python",
   "name": "python2"
  },
  "language_info": {
   "codemirror_mode": {
    "name": "ipython",
    "version": 2
   },
   "file_extension": ".py",
   "mimetype": "text/x-python",
   "name": "python",
   "nbconvert_exporter": "python",
   "pygments_lexer": "ipython2",
   "version": "2.7.6"
  }
 },
 "nbformat": 4,
 "nbformat_minor": 0
}
